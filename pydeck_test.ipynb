{
  "nbformat": 4,
  "nbformat_minor": 0,
  "metadata": {
    "colab": {
      "name": "pydeck_test.ipynb",
      "provenance": [],
      "authorship_tag": "ABX9TyN34RUl5GLezVID12rPOkpF",
      "include_colab_link": true
    },
    "kernelspec": {
      "name": "python3",
      "display_name": "Python 3"
    }
  },
  "cells": [
    {
      "cell_type": "markdown",
      "metadata": {
        "id": "view-in-github",
        "colab_type": "text"
      },
      "source": [
        "<a href=\"https://colab.research.google.com/github/kashuk/open_test/blob/master/pydeck_test.ipynb\" target=\"_parent\"><img src=\"https://colab.research.google.com/assets/colab-badge.svg\" alt=\"Open In Colab\"/></a>"
      ]
    },
    {
      "cell_type": "code",
      "metadata": {
        "id": "vBUrOl2wWf2f",
        "colab_type": "code",
        "colab": {
          "base_uri": "https://localhost:8080/",
          "height": 34
        },
        "outputId": "f12a5d0d-15a2-450b-c75a-9a1b1ad17d84"
      },
      "source": [
        "mapbox_token=input('Enter your mapbox_token:' )"
      ],
      "execution_count": 1,
      "outputs": [
        {
          "output_type": "stream",
          "text": [
            "Enter your mapbox_token:1\n"
          ],
          "name": "stdout"
        }
      ]
    },
    {
      "cell_type": "code",
      "metadata": {
        "id": "5TcRFDX4WjMT",
        "colab_type": "code",
        "colab": {
          "base_uri": "https://localhost:8080/",
          "height": 300
        },
        "outputId": "3dfe5942-dc46-4475-c375-343d0436ab63"
      },
      "source": [
        "import requests\n",
        "html_template_link = 'https://gist.githubusercontent.com/kashuk/8082005046f3e0351f3ef051ccb188d9/raw/60f56337081ec75cd0ffd110ffed098034f57b06/pydeck_html'\n",
        "html_template = requests.get(html_template_link).text\n",
        "from IPython.display import HTML\n",
        "j = '{\"initialViewState\": {\"bearing\": 0, \"latitude\": 51.51, \"longitude\": -0.11, \"maxZoom\": 10, \"pitch\": 50, \"zoom\": 5}, \"layers\": [{\"@@type\": \"LineLayer\", \"autoHighlight\": true, \"data\": \"https://raw.githubusercontent.com/uber-common/deck.gl-data/master/examples/line/heathrow-flights.json\", \"getColor\": [21, 255, 255, 200], \"getSourcePosition\": \"@@=start\", \"getTargetPosition\": \"@@=end\", \"getWidth\": 8, \"id\": \"40e2b9cd-34e6-4b11-8b08-160925901ac9\", \"pickable\": true}], \"mapStyle\": \"mapbox://styles/mapbox/dark-v9\", \"views\": [{\"@@type\": \"MapView\", \"controller\": true}]}'\n",
        "h = html_template[:1064]+f'\\n const jsonInput ={j}\\n const MAPBOX_API_KEY =\\'{mapbox_token}\\'; \\n'+html_template[1064:]\n",
        "HTML(h)"
      ],
      "execution_count": 2,
      "outputs": [
        {
          "output_type": "execute_result",
          "data": {
            "text/html": [
              "<html>\n",
              "  <head>\n",
              "    <meta http-equiv=\"content-type\" content=\"text/html; charset=UTF-8\" />\n",
              "    <title>pydeck</title>\n",
              "    <link rel=\"stylesheet\" href=\"https://maxcdn.bootstrapcdn.com/bootstrap/3.2.0/css/bootstrap-theme.min.css\" />\n",
              "    <link rel=\"stylesheet\" href=\"https://maxcdn.bootstrapcdn.com/font-awesome/4.6.3/css/font-awesome.min.css\" />\n",
              "    <script src=\"https://cdn.jsdelivr.net/npm/@deck.gl/jupyter-widget@^8.0.0/dist/index.js\"></script>\n",
              "    <style>\n",
              "    body {\n",
              "      margin: 0;\n",
              "      padding: 0;\n",
              "      overflow: hidden;\n",
              "    }\n",
              "    \n",
              "    #deck-map-container {\n",
              "      width: 100%;\n",
              "      height: 100%;\n",
              "      background-color: black;\n",
              "    }\n",
              "    \n",
              "    #map {\n",
              "      pointer-events: none;\n",
              "      height: 100%;\n",
              "      width: 100%;\n",
              "      position: absolute;\n",
              "      z-index: 1;\n",
              "    }\n",
              "    \n",
              "    #deckgl-overlay {\n",
              "      z-index: 2;\n",
              "    }\n",
              "    \n",
              "    #deck-map-wrapper {\n",
              "      width: 100%;\n",
              "      height: 100%;\n",
              "    }\n",
              "    \n",
              "    #deck-container {\n",
              "      width: 100vw;\n",
              "      height: 100vh;\n",
              "    }\n",
              "    </style>\n",
              "  </head>\n",
              "  <body>\n",
              "    <div id=\"deck-container\">\n",
              "    </div>\n",
              "  </body>\n",
              "  <script>\n",
              " const jsonInput ={\"initialViewState\": {\"bearing\": 0, \"latitude\": 51.51, \"longitude\": -0.11, \"maxZoom\": 10, \"pitch\": 50, \"zoom\": 5}, \"layers\": [{\"@@type\": \"LineLayer\", \"autoHighlight\": true, \"data\": \"https://raw.githubusercontent.com/uber-common/deck.gl-data/master/examples/line/heathrow-flights.json\", \"getColor\": [21, 255, 255, 200], \"getSourcePosition\": \"@@=start\", \"getTargetPosition\": \"@@=end\", \"getWidth\": 8, \"id\": \"40e2b9cd-34e6-4b11-8b08-160925901ac9\", \"pickable\": true}], \"mapStyle\": \"mapbox://styles/mapbox/dark-v9\", \"views\": [{\"@@type\": \"MapView\", \"controller\": true}]}\n",
              " const MAPBOX_API_KEY ='1'; \n",
              "\n",
              "    const tooltip = true;\n",
              "    const deck = createDeck({\n",
              "      mapboxApiKey: MAPBOX_API_KEY, \n",
              "      container: document.getElementById('deck-container'),\n",
              "      jsonInput,\n",
              "      tooltip\n",
              "    });\n",
              "  </script>\n",
              "</html>"
            ],
            "text/plain": [
              "<IPython.core.display.HTML object>"
            ]
          },
          "metadata": {
            "tags": []
          },
          "execution_count": 2
        }
      ]
    },
    {
      "cell_type": "code",
      "metadata": {
        "id": "wHT9JaiOWjDq",
        "colab_type": "code",
        "colab": {}
      },
      "source": [
        ""
      ],
      "execution_count": 0,
      "outputs": []
    }
  ]
}